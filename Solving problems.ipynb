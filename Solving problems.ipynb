{
 "cells": [
  {
   "cell_type": "markdown",
   "metadata": {},
   "source": [
    "<h1>Solving problems: The thought process</h2>\n"
   ]
  },
  {
   "cell_type": "markdown",
   "metadata": {},
   "source": [
    "<h2>Introduction</h2>\n",
    "\n",
    "A problem is an innocuous or undesirable situation that requires attention to be solved. Problems are ubiquitous and they materialize differently with every circumstance. An essential epiphany everyone needs to have is that problems are a part of life. We connect more with the world when we solve problems we encounter. \n",
    "\n",
    "Data scientists are expected to assist in the decision making process in organizations with the help of data. The path to becoming a professional data scientist is paved with problems. For example, at the beginning this semester, I was asked to solve a problem of any kind with data. This task was not very difficult for me because I have a lot of questions about data science and the world. The problem however, was answering the question with data. Today, data is collected in a plethora of ways - surveys and IoT to name a few but sometimes, the data required to a test a certain hypothesis is unavailable. People approach problems in a variety of ways - some people get overwhelmed, some give up and others tackle the problem.\n",
    "\n",
    "Even though I am not studying to be a software engineer, many software engineering principles are extremely useful in my activities. This piece elaborates how I solved an entry level software engineering problem. Note-worthy is the fact this approach is very transferable and does not apply to just software engineering.\n"
   ]
  },
  {
   "cell_type": "markdown",
   "metadata": {},
   "source": [
    "<br/>"
   ]
  },
  {
   "cell_type": "markdown",
   "metadata": {},
   "source": [
    "<h2>The Problem</h2>\n",
    "\n",
    "Implement a function that will determine if a string represents a valid currency amount. Such strings will have the following properties:\n",
    "\n",
    "- The amount must consist of base-10 digits.\n",
    "- The amount may optionally contain thousands separators using the ',' character.\n",
    "- If thousands separators are present, they must be present at each thousands increment.\n",
    "- The amount must be prefixed by a currency symbol. We support US Dollars(\\$), Euros(€), and Japanese Yen(¥) only.\n",
    "- Negative amounts may be indicated either by a negative sign before the currency symbol or by enclosing the amount (including currency symbol) in parenthesis, such as ($450).\n",
    "- Dollar and Euro amounts may contain an amount of cents, represented to exactly two digits of precision.\n",
    "- If a decimal point is present, the cents must be specified.\n",
    "- Yen amounts may not contain decimal points.\n",
    "- Amounts may not contain a leading zero unless it is zero Dollars or Euros and cents are specified.\n",
    "- Any other characters, including leading or trailing whitespace, are invalid.\n",
    "\n",
    "Valid Examples:\n",
    "```bash\n",
    "\"$450\"\n",
    "\"-€23\"\n",
    "\"(¥2400)\"\n",
    "\"$4,500.00\"\n",
    "\"€0.25\"\n",
    "```\n",
    "\n",
    "Invalid Examples:\n",
    "```bash\n",
    "\"cat\"\n",
    "\"£25\"\n",
    "\"$45,0\"\n",
    "\"(€350\"\n",
    "\"(-$3.50)\"\n",
    "\"¥120.00\"\n",
    "\"$-50\"\n",
    "\" €43.25\"\n",
    "\"$65.\"\n",
    "\"€82.1\"\n",
    "\"48.50\"\n",
    "\"¥1200,000\"\n",
    "```\n",
    "\n",
    "\n",
    "Test Cases:\n",
    "```bash\n",
    "assert isCurrency('$450') == True, 'Valid currency'\n",
    "assert isCurrency('-\\u20AC23') == True, 'Valid currency'\n",
    "assert isCurrency('(\\u00A52400)') == True, 'Valid currency'\n",
    "assert isCurrency('$4,500.00') == True, 'Valid currency'\n",
    "assert isCurrency('(\\u20AC0.25)') == True, 'Valid currency'\n",
    "assert isCurrency('cat') == False, \"Invalid currency\"\n",
    "assert isCurrency('\\u00A325') == False, \"Invalid currency\"\n",
    "assert isCurrency('$45,0') == False, \"Invalid currency\"\n",
    "assert isCurrency('(\\u20AC350') == False, \"Invalid currency\"\n",
    "assert isCurrency('(-$3.50)') == False, \"Invalid currency\"\n",
    "assert isCurrency('\\u00A5120.00') == False, \"Invalid currency\"\n",
    "assert isCurrency('$-50') == False, \"Invalid currency\"\n",
    "assert isCurrency(' \\u20AC43.25') == False, \"Invalid currency\"\n",
    "assert isCurrency('$65.') == False, \"Invalid currency\"\n",
    "assert isCurrency('\\u20AC82.1') == False, \"Invalid currency\"\n",
    "assert isCurrency('48.50') == False, \"Invalid currency\"\n",
    "assert isCurrency('\\u00A51200,000') == False, \"Invalid currency\"\n",
    "```\n",
    "\n",
    "Unicode characters:\n",
    "```bash\n",
    "¥ = \"\\u00A5\"\n",
    "€ = \"\\u20AC\"\n",
    "```"
   ]
  },
  {
   "cell_type": "markdown",
   "metadata": {},
   "source": [
    "<h2>The Approach</h2>\n",
    "\n",
    "The first step to solving any problem is understanding the problem. The Pareto principle, which is named after the renowned economist Vilfredo Pareto states that 20% of causes birth 80% of consequences accentuating an uneven relationship between inputs and outputs <i>(Investopedia, 2019)</i>. This principle can also be applied to a problem-solving process - understanding a problem <b>(20%)</b> solves <b>80%</b> of problem. Thus this step is very important."
   ]
  },
  {
   "cell_type": "markdown",
   "metadata": {},
   "source": [
    "<h3>Understanding the problem</h3>\n",
    "\n",
    "I read the question so many times that by looking at a string which was not provided as part of the test cases, I could tell if it'll be valid or invalid for eg. <b>'48.502'</b> would be invalid because of its precision and other factors. Time spent during this phase varies for everyone. Some people have to read it once to fully understand whereas others like me have to read it multiple times. The goal however is to fully understand the problem."
   ]
  },
  {
   "cell_type": "markdown",
   "metadata": {},
   "source": [
    "<h3>Observing patterns</h3>\n",
    "\n",
    "Being able to pay attention to detail and patience are very important qualities in this stage. I noticed that valid strings must either start with an opening parenthesis <code>(</code>, negative sign <code>-</code> or a unit of currency eg <code>\\$</code>. Any string that does not satisfy these constraints is an invalid string. I also noticed that if I could somehow get the digit from the string for eg. $450$ from <code>$450</code>, I'll easily be able to tell if it is well-formatted or not."
   ]
  },
  {
   "cell_type": "markdown",
   "metadata": {},
   "source": [
    "<h2>The Execution</h2>\n",
    "\n",
    "Some people tend to view problems as a whole and this overwhelms them easily. I like to break problems into modules and solve the modules incrementally. For example, when I am running and I realise I have 1km of distance left, I reduce my speed after every 20 meters for about 5 minutes and this helps me to save energy.\n",
    "\n",
    "After observing some patterns, I broke problem into 2 modules.\n",
    "\n",
    "- <b>Module 1</b>: Check whether a string is properly formatted using a function called <code>checkMoney</code>\n",
    "- <b>Module 2</b>: Check whether a string begins with <code>-</code>, <code>(</code> or a currency symbol like <code>$</code>, check that Yen amounts do not include decimals and check that strings are properly formatted using the <code>checkMoney</code> function. This will implemented in a function called <code>isCurrency</code>"
   ]
  },
  {
   "cell_type": "markdown",
   "metadata": {},
   "source": [
    "<h3>Module 1</h3>\n",
    "\n",
    "All the conditions a well-formatted string must satisfy are stated clearly in the problem.\n",
    "\n",
    "- The amount must consist of a base-10 digit.\n",
    "- The amount may optionally contain thousands separators using the <code>,</code> character.\n",
    "- If thousands separators are present, they must be present at each thousands increment.\n",
    "- If a decimal point is present, the cents must be specified.\n",
    "- Amounts may not contain a leading zero unless it is zero Dollars or Euros and cents are specified.\n",
    "- Any other characters, including leading or trailing whitespace, are invalid.\n",
    "- Dollar and Euro amounts may contain an amount of cents, represented to exactly two digits of precision.\n",
    "- Any other characters, including leading or trailing whitespace, is invalid."
   ]
  },
  {
   "cell_type": "code",
   "execution_count": 21,
   "metadata": {},
   "outputs": [],
   "source": [
    "def checkMoney(a):\n",
    "    \n",
    "    # check that the amount is a digit but it does not start with zero\n",
    "    if a.isdigit() and not a.startswith(\"0\"):\n",
    "        return True\n",
    "\n",
    "    # the amount may optionally contain thousands separators using the ',' character\n",
    "    # if thousands separators are present, they must be present at each thousands increment\n",
    "    if (\",\" in a and not \".\" in a):\n",
    "        # remove the comma\n",
    "        new_a = a.replace(\",\", \"\")\n",
    "        try:\n",
    "            correct = \"{:,}\".format(int(new_a))\n",
    "        except Exception as e:\n",
    "            return False\n",
    "        else:\n",
    "            if correct == a:\n",
    "                return True\n",
    "            else:\n",
    "                return False\n",
    "            \n",
    "    # if a decimal point is present, the cents must be specified\n",
    "    if(\".\" in a and not \",\" in a):\n",
    "        try:\n",
    "            new_a = \"{:.2f}\".format(float(a))\n",
    "        except Exception as e:\n",
    "            return False\n",
    "        else:\n",
    "            if new_a == a:\n",
    "                return True\n",
    "            else:\n",
    "                return False\n",
    "            \n",
    "    # the amount may optionally contain thousands separators using the ',' character\n",
    "    # if thousands separators are present, they must be present at each thousands increment\n",
    "    # if a decimal point is present, the cents must be specified\n",
    "    if (\",\" in a and \".\" in a):\n",
    "        # remove the commas\n",
    "        new_a = a.replace(\",\", \"\")\n",
    "        try:\n",
    "            new_a = \"{:,.2f}\".format(float(new_a))\n",
    "        except Exception as e:\n",
    "            return False\n",
    "        else:\n",
    "            if new_a == a:\n",
    "                return True\n",
    "            else:\n",
    "                return False\n",
    "            \n",
    "    return False\n",
    "        "
   ]
  },
  {
   "cell_type": "code",
   "execution_count": 22,
   "metadata": {},
   "outputs": [
    {
     "data": {
      "text/plain": [
       "True"
      ]
     },
     "execution_count": 22,
     "metadata": {},
     "output_type": "execute_result"
    }
   ],
   "source": [
    "checkMoney('0.25')"
   ]
  },
  {
   "cell_type": "markdown",
   "metadata": {},
   "source": [
    "<h3>Module 2</h3>\n",
    "\n",
    "- The amount must be prefixed by a currency symbol. We support US Dollars(\\$), Euros(€), and Japanese Yen(¥) only.\n",
    "- Negative amounts may be indicated either by a negative sign before the currency symbol or by enclosing the amount (including currency symbol) in parenthesis, such as ($450).\n",
    "- Yen amounts may not contain decimal points."
   ]
  },
  {
   "cell_type": "code",
   "execution_count": 17,
   "metadata": {},
   "outputs": [],
   "source": [
    "def isCurrency(strAmount):\n",
    "    # list of valid currencies\n",
    "    list_of_currency = [u\"\\u20AC\", \"\\u00A5\", \"$\"]\n",
    "    \n",
    "    # negative currency - type 1\n",
    "    if strAmount[0] == \"(\" and strAmount[-1] == \")\" and strAmount[1] in list_of_currency:\n",
    "        \n",
    "        # get the digit\n",
    "        real_amount = strAmount[2:-1]\n",
    "        \n",
    "        # Yen amounts may not contain decimal points\n",
    "        if \".\" in real_amount and '\\u00A5' in strAmount:\n",
    "            return False\n",
    "        \n",
    "        return checkMoney(real_amount)\n",
    "        \n",
    "    # negative currency - type 2\n",
    "    elif strAmount[0] == \"-\" and strAmount[1] in list_of_currency:\n",
    "        \n",
    "        # get the digit\n",
    "        real_amount = strAmount[2:]\n",
    "        \n",
    "        # Yen amounts may not contain decimal points\n",
    "        if \".\" in real_amount and '\\u00A5' in strAmount:\n",
    "            return False\n",
    "        \n",
    "        return checkMoney(real_amount)\n",
    "    \n",
    "        \n",
    "    # positive currency\n",
    "    # the amount must be prefixed by a valid currency symbol\n",
    "    elif strAmount[0] in list_of_currency:\n",
    "        \n",
    "        # get the digit\n",
    "        real_amount = strAmount[1:]\n",
    "\n",
    "        # Yen amounts may not contain decimal points\n",
    "        if \".\" in real_amount and '\\u00A5' in strAmount:\n",
    "            return False\n",
    "        \n",
    "        return checkMoney(real_amount)\n",
    "        \n",
    "    else:\n",
    "        return False\n",
    "        "
   ]
  },
  {
   "cell_type": "code",
   "execution_count": 20,
   "metadata": {},
   "outputs": [
    {
     "data": {
      "text/plain": [
       "True"
      ]
     },
     "execution_count": 20,
     "metadata": {},
     "output_type": "execute_result"
    }
   ],
   "source": [
    "isCurrency('$450')"
   ]
  },
  {
   "cell_type": "markdown",
   "metadata": {},
   "source": [
    "<br/>"
   ]
  },
  {
   "cell_type": "markdown",
   "metadata": {},
   "source": [
    "<h2>Testing</h2>\n",
    "\n",
    "In this section the <code>isCurrency</code> function is tested against some test cases."
   ]
  },
  {
   "cell_type": "code",
   "execution_count": 18,
   "metadata": {},
   "outputs": [],
   "source": [
    "assert isCurrency('$450') == True, 'Valid currency'\n",
    "assert isCurrency('-\\u20AC23') == True, 'Valid currency'\n",
    "assert isCurrency('(\\u00A52400)') == True, 'Valid currency'\n",
    "assert isCurrency('$4,500.00') == True, 'Valid currency'\n",
    "assert isCurrency('(\\u20AC0.25)') == True, 'Valid currency'\n",
    "assert isCurrency('cat') == False, \"Invalid currency\"\n",
    "assert isCurrency('\\u00A325') == False, \"Invalid currency\"\n",
    "assert isCurrency('$45,0') == False, \"Invalid currency\"\n",
    "assert isCurrency('(\\u20AC350') == False, \"Invalid currency\"\n",
    "assert isCurrency('(-$3.50)') == False, \"Invalid currency\"\n",
    "assert isCurrency('\\u00A5120.00') == False, \"Invalid currency\"\n",
    "assert isCurrency('$-50') == False, \"Invalid currency\"\n",
    "assert isCurrency(' \\u20AC43.25') == False, \"Invalid currency\"\n",
    "assert isCurrency('$65.') == False, \"Invalid currency\"\n",
    "assert isCurrency('\\u20AC82.1') == False, \"Invalid currency\"\n",
    "assert isCurrency('48.50') == False, \"Invalid currency\"\n",
    "assert isCurrency('\\u00A51200,000') == False, \"Invalid currency\""
   ]
  },
  {
   "cell_type": "markdown",
   "metadata": {},
   "source": [
    "<br/>"
   ]
  },
  {
   "cell_type": "markdown",
   "metadata": {},
   "source": [
    "<h2>Conclusion</h2>"
   ]
  },
  {
   "cell_type": "markdown",
   "metadata": {},
   "source": [
    "Some problems can be overwhelming when viewed as a whole. However solving complex problems becomes very easy when they are broken down into several modules. Efficient approaches to solving complex problems improve with practice."
   ]
  },
  {
   "cell_type": "markdown",
   "metadata": {},
   "source": [
    "<br/>"
   ]
  },
  {
   "cell_type": "markdown",
   "metadata": {},
   "source": [
    "<h2>References</h2>\n",
    "\n",
    "Investopedia. (2019). The Pareto Principle Explained. [online] Available at: https://www.investopedia.com/terms/p/paretoprinciple.asp."
   ]
  },
  {
   "cell_type": "code",
   "execution_count": null,
   "metadata": {},
   "outputs": [],
   "source": []
  }
 ],
 "metadata": {
  "hide_input": false,
  "kernelspec": {
   "display_name": "Python 3",
   "language": "python",
   "name": "python3"
  },
  "language_info": {
   "codemirror_mode": {
    "name": "ipython",
    "version": 3
   },
   "file_extension": ".py",
   "mimetype": "text/x-python",
   "name": "python",
   "nbconvert_exporter": "python",
   "pygments_lexer": "ipython3",
   "version": "3.6.3"
  },
  "toc": {
   "base_numbering": 1,
   "nav_menu": {},
   "number_sections": false,
   "sideBar": true,
   "skip_h1_title": false,
   "title_cell": "Table of Contents",
   "title_sidebar": "Contents",
   "toc_cell": false,
   "toc_position": {},
   "toc_section_display": true,
   "toc_window_display": false
  },
  "varInspector": {
   "cols": {
    "lenName": 16,
    "lenType": 16,
    "lenVar": 40
   },
   "kernels_config": {
    "python": {
     "delete_cmd_postfix": "",
     "delete_cmd_prefix": "del ",
     "library": "var_list.py",
     "varRefreshCmd": "print(var_dic_list())"
    },
    "r": {
     "delete_cmd_postfix": ") ",
     "delete_cmd_prefix": "rm(",
     "library": "var_list.r",
     "varRefreshCmd": "cat(var_dic_list()) "
    }
   },
   "types_to_exclude": [
    "module",
    "function",
    "builtin_function_or_method",
    "instance",
    "_Feature"
   ],
   "window_display": false
  }
 },
 "nbformat": 4,
 "nbformat_minor": 2
}
